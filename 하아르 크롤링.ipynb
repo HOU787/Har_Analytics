{
 "cells": [
  {
   "cell_type": "markdown",
   "id": "e8792e1b",
   "metadata": {},
   "source": [
    "# 하아르 크롤링 수행"
   ]
  },
  {
   "cell_type": "markdown",
   "id": "e53f81bb",
   "metadata": {},
   "source": [
    "- Iframe 구조로 된 페이지이므로 bs4, selenium 동시 사용\n",
    "- 기본적인 크롤링 제한이 걸려있으므로, request 지속 수행시 ip벤의 위함이 존재함\n",
    "    - proxy 사용 고려 (데이터 크롤링 속도가 더 느려질 수 있음)\n",
    "    - 지속적인 header 값 변경 (header 데이터를 여러개 준비해야 함)"
   ]
  },
  {
   "cell_type": "code",
   "execution_count": null,
   "id": "1a1c40e1",
   "metadata": {
    "ExecuteTime": {
     "end_time": "2024-04-21T09:07:18.634361Z",
     "start_time": "2024-04-21T09:07:17.599961Z"
    }
   },
   "outputs": [],
   "source": [
    "# selenium의 webdriver를 사용하기 위한 import\n",
    "from selenium import webdriver\n",
    "from selenium.webdriver.common.by import By\n",
    "\n",
    "# selenium으로 키를 조작하기 위한 import\n",
    "from selenium.webdriver.common.keys import Keys\n",
    "\n",
    "from bs4 import BeautifulSoup\n",
    "\n",
    "# 페이지 로딩을 기다리는데에 사용할 time 모듈 import\n",
    "import time\n",
    "\n",
    "import random\n",
    "import pandas as pd"
   ]
  },
  {
   "cell_type": "code",
   "execution_count": null,
   "id": "2be9fc6c",
   "metadata": {
    "ExecuteTime": {
     "end_time": "2024-04-21T14:41:59.028023Z",
     "start_time": "2024-04-21T13:04:02.647426Z"
    }
   },
   "outputs": [],
   "source": []
  },
  {
   "cell_type": "code",
   "execution_count": null,
   "id": "6d823b84",
   "metadata": {
    "ExecuteTime": {
     "end_time": "2024-04-21T14:41:59.028023Z",
     "start_time": "2024-04-21T13:04:02.647426Z"
    },
    "scrolled": true
   },
   "outputs": [],
   "source": [
    "# 마지막 페이지 5108\n",
    "\n",
    "l1 = [1, 1001, 2002, 3001,4001,5001]\n",
    "l2 = [1001, 2001, 3001, 4001, 5109]\n",
    "\n",
    "for k in range(len(l1)):\n",
    "    data = []\n",
    "    for j in range(l1[k],l2[k]):\n",
    "\n",
    "        print(\"[\", j, \"실행\", end='')\n",
    "\n",
    "        # 크롬드라이버 실행\n",
    "        driver = webdriver.Chrome()\n",
    "\n",
    "        #크롬 드라이버에 url 주소 넣고 실행\n",
    "        driver.get(f'https://thehar.co.kr/product/%ED%95%98%EC%95%84%EB%A5%B4-%EB%8B%A5%ED%84%B0%EB%AA%A8%EB%A6%AC%EC%97%94-100ml-drmori-n/9/category/28/display/1/#snapreview_widget3_0_page={j}')\n",
    "\n",
    "        # 페이지가 완전히 로딩되도록 2+(0~2)초동안 기다림\n",
    "        time.sleep(3+int((random.random())*10)%3)\n",
    "\n",
    "        # iframe 전환\n",
    "        driver.switch_to.frame('review_widget3_0')\n",
    "\n",
    "        soup = BeautifulSoup(driver.page_source, 'html.parser')\n",
    "        \n",
    "        # exception 발생을 대비해 예외 처리 \n",
    "        try:\n",
    "        \n",
    "            for i in range(1,6):\n",
    "            \n",
    "                name = ''\n",
    "                score = 0\n",
    "                text = ''\n",
    "                recommend = 0\n",
    "                selector = f\"#snapreview_contents > div.sf_main_review > div.sf_review_detail_list > div:nth-child({i})\"\n",
    "\n",
    "                if soup.select(selector) != None:\n",
    "\n",
    "                    # 이름\n",
    "                    result_name = soup.select_one(selector + \" > div.sf_review_block_right > div.sf_review_user_writer > div.sf_review_user_writer_name > span.value.font_montserrat\") \n",
    "                    name = result_name.text\n",
    "\n",
    "                    # 별점\n",
    "                    result_score = soup.select(selector +\" > div.sf_review_block_left > div.sf_review_user_top_area > div.sf_review_user_score > div > div\")\n",
    "\n",
    "                    if '100%' in str(result_score):\n",
    "                        score = 5\n",
    "                    elif '80%' in str(result_score):\n",
    "                        score = 4\n",
    "                    elif '60%' in str(result_score):\n",
    "                        score = 3\n",
    "                    elif '40%' in str(result_score):\n",
    "                        score = 2\n",
    "                    elif '20%' in str(result_score):\n",
    "                        score = 1\n",
    "\n",
    "                    # 본문\n",
    "                    result_text = soup.select_one(selector +\" > div.sf_review_block_left > div.sf_review_user_write.custom_font_size.custom_text_line > div.sf_review_user_write_review.sf_user_write_review.sf_text_overflow > span\")\n",
    "\n",
    "                    soup.find(\"div\",{\"class\":\"review_report_area\"}).decompose()\n",
    "                    text = result_text.text\n",
    "\n",
    "                    # 추천\n",
    "                    result_recommend = soup.select_one(selector + \" > div.sf_review_block_left > div.sf_review_user_recommend > div.sf_review_user_recommend_score > div > div.sf_review_user_recommend_count > span.value\" )\n",
    "                    recommend = result_recommend.text\n",
    "\n",
    "                data.append([name, int(score), text, int(recommend)])\n",
    "                \n",
    "        except:\n",
    "                # exception 발생 시 해당 페이지 크롤링 스킵\n",
    "            print(f\"!!!{j}번째 수행 실패!!!\")\n",
    "                \n",
    "        print(\"완료 ]\",end=' ')\n",
    "            \n",
    "    # 임시 파일 생성(버퍼 비우기용)\n",
    "    temp = pd.DataFrame(data, columns=['name','score','text','recommend'])\n",
    "    temp.to_excel(f\"har{k}.xlsx\")\n",
    "    time.sleep(100)"
   ]
  },
  {
   "cell_type": "markdown",
   "id": "1b5c8b00",
   "metadata": {},
   "source": [
    "# 생성된 데이터 조합"
   ]
  },
  {
   "cell_type": "code",
   "execution_count": null,
   "id": "ee5f124a",
   "metadata": {},
   "outputs": [],
   "source": [
    "# 크롤링 데이터 임시저장본\n",
    "a = pd.read_excel(\"har0.xlsx\")\n",
    "b = pd.read_excel(\"har1.xlsx\")\n",
    "c = pd.read_excel(\"har3.xlsx\")\n",
    "d = pd.read_excel(\"har4.xlsx\")\n",
    "e = pd.read_excel(\"har5.xlsx\")\n",
    "f = pd.read_excel(\"har6.xlsx\")\n",
    "\n",
    "i = pd.concat([a,b,c,d,e,f]).drop(['Unnamed: 0'], axis=1).reset_index(drop=True)\n",
    "\n",
    "# 크롤링 데이터 최종본\n",
    "i.to_excel(\"final.xlsx\")"
   ]
  }
 ],
 "metadata": {
  "kernelspec": {
   "display_name": "Python 3 (ipykernel)",
   "language": "python",
   "name": "python3"
  },
  "language_info": {
   "codemirror_mode": {
    "name": "ipython",
    "version": 3
   },
   "file_extension": ".py",
   "mimetype": "text/x-python",
   "name": "python",
   "nbconvert_exporter": "python",
   "pygments_lexer": "ipython3",
   "version": "3.11.7"
  },
  "toc": {
   "base_numbering": 1,
   "nav_menu": {},
   "number_sections": true,
   "sideBar": true,
   "skip_h1_title": false,
   "title_cell": "Table of Contents",
   "title_sidebar": "Contents",
   "toc_cell": false,
   "toc_position": {},
   "toc_section_display": true,
   "toc_window_display": false
  },
  "varInspector": {
   "cols": {
    "lenName": 16,
    "lenType": 16,
    "lenVar": 40
   },
   "kernels_config": {
    "python": {
     "delete_cmd_postfix": "",
     "delete_cmd_prefix": "del ",
     "library": "var_list.py",
     "varRefreshCmd": "print(var_dic_list())"
    },
    "r": {
     "delete_cmd_postfix": ") ",
     "delete_cmd_prefix": "rm(",
     "library": "var_list.r",
     "varRefreshCmd": "cat(var_dic_list()) "
    }
   },
   "types_to_exclude": [
    "module",
    "function",
    "builtin_function_or_method",
    "instance",
    "_Feature"
   ],
   "window_display": false
  }
 },
 "nbformat": 4,
 "nbformat_minor": 5
}
