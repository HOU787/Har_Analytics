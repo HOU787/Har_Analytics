{
 "cells": [
  {
   "cell_type": "markdown",
   "id": "8c11490c",
   "metadata": {},
   "source": [
    "# 데이터 분석"
   ]
  },
  {
   "cell_type": "markdown",
   "id": "c4677f63",
   "metadata": {},
   "source": [
    "가정\n",
    "- text 중복값을 제외함\n",
    "\n",
    "이점\n",
    "- 중복된 데이터를 제거하여 분석함으로써 실제 소비자의 상품 리뷰를 토대로 분석 후 제품의 전반적인 만족도 평가와 개선 방향을 수립할 수 있음\n",
    "\n",
    "판단\n",
    "- 긍정으로 볼수 있는 4,5점의 비율이 0.87 이므로 상품에 대한 평가는 긍정적\n",
    "- 긍정으로 볼 수 있는 4,5점의 점수에만 추천이 존재(1,2,3 점에는 추천이 존재하지 않음)"
   ]
  },
  {
   "cell_type": "code",
   "execution_count": 1,
   "id": "8c8026f1",
   "metadata": {
    "ExecuteTime": {
     "end_time": "2024-04-21T18:06:31.257931Z",
     "start_time": "2024-04-21T18:06:30.915251Z"
    }
   },
   "outputs": [],
   "source": [
    "import pandas as pd"
   ]
  },
  {
   "cell_type": "code",
   "execution_count": 101,
   "id": "0ff419d2",
   "metadata": {
    "ExecuteTime": {
     "end_time": "2024-04-21T19:04:16.695769Z",
     "start_time": "2024-04-21T19:04:13.074205Z"
    }
   },
   "outputs": [],
   "source": [
    "final = pd.read_excel(\"final.xlsx\", index_col=0)"
   ]
  },
  {
   "cell_type": "code",
   "execution_count": 83,
   "id": "08ae47ca",
   "metadata": {
    "ExecuteTime": {
     "end_time": "2024-04-21T19:00:26.281036Z",
     "start_time": "2024-04-21T19:00:26.257148Z"
    }
   },
   "outputs": [
    {
     "data": {
      "text/plain": [
       "13271"
      ]
     },
     "execution_count": 83,
     "metadata": {},
     "output_type": "execute_result"
    }
   ],
   "source": [
    "# 중복된 값 13271건\n",
    "len(final['text'].unique())"
   ]
  },
  {
   "cell_type": "code",
   "execution_count": 84,
   "id": "33f3706c",
   "metadata": {
    "ExecuteTime": {
     "end_time": "2024-04-21T19:00:27.086593Z",
     "start_time": "2024-04-21T19:00:27.076664Z"
    }
   },
   "outputs": [],
   "source": [
    "final.drop_duplicates(['text'], keep='first',inplace=True, ignore_index=True)"
   ]
  },
  {
   "cell_type": "code",
   "execution_count": 102,
   "id": "059f1b41",
   "metadata": {
    "ExecuteTime": {
     "end_time": "2024-04-21T19:04:17.561651Z",
     "start_time": "2024-04-21T19:04:17.543598Z"
    }
   },
   "outputs": [
    {
     "data": {
      "text/html": [
       "<div>\n",
       "<style scoped>\n",
       "    .dataframe tbody tr th:only-of-type {\n",
       "        vertical-align: middle;\n",
       "    }\n",
       "\n",
       "    .dataframe tbody tr th {\n",
       "        vertical-align: top;\n",
       "    }\n",
       "\n",
       "    .dataframe thead th {\n",
       "        text-align: right;\n",
       "    }\n",
       "</style>\n",
       "<table border=\"1\" class=\"dataframe\">\n",
       "  <thead>\n",
       "    <tr style=\"text-align: right;\">\n",
       "      <th></th>\n",
       "      <th>count</th>\n",
       "      <th>proportion</th>\n",
       "    </tr>\n",
       "    <tr>\n",
       "      <th>score</th>\n",
       "      <th></th>\n",
       "      <th></th>\n",
       "    </tr>\n",
       "  </thead>\n",
       "  <tbody>\n",
       "    <tr>\n",
       "      <th>5</th>\n",
       "      <td>17387</td>\n",
       "      <td>0.780736</td>\n",
       "    </tr>\n",
       "    <tr>\n",
       "      <th>4</th>\n",
       "      <td>3196</td>\n",
       "      <td>0.143511</td>\n",
       "    </tr>\n",
       "    <tr>\n",
       "      <th>3</th>\n",
       "      <td>1385</td>\n",
       "      <td>0.062191</td>\n",
       "    </tr>\n",
       "    <tr>\n",
       "      <th>2</th>\n",
       "      <td>154</td>\n",
       "      <td>0.006915</td>\n",
       "    </tr>\n",
       "    <tr>\n",
       "      <th>1</th>\n",
       "      <td>148</td>\n",
       "      <td>0.006646</td>\n",
       "    </tr>\n",
       "  </tbody>\n",
       "</table>\n",
       "</div>"
      ],
      "text/plain": [
       "       count  proportion\n",
       "score                   \n",
       "5      17387    0.780736\n",
       "4       3196    0.143511\n",
       "3       1385    0.062191\n",
       "2        154    0.006915\n",
       "1        148    0.006646"
      ]
     },
     "execution_count": 102,
     "metadata": {},
     "output_type": "execute_result"
    }
   ],
   "source": [
    "# 별점 별 통계\n",
    "a = final['score'].value_counts()\n",
    "\n",
    "# 구성비율\n",
    "b = final['score'].value_counts(normalize=True)\n",
    "\n",
    "# 종합\n",
    "pd.concat([a,b] , axis=1)"
   ]
  },
  {
   "cell_type": "code",
   "execution_count": 109,
   "id": "ec162b1a",
   "metadata": {
    "ExecuteTime": {
     "end_time": "2024-04-21T19:07:06.024066Z",
     "start_time": "2024-04-21T19:07:06.006968Z"
    }
   },
   "outputs": [
    {
     "data": {
      "text/html": [
       "<div>\n",
       "<style scoped>\n",
       "    .dataframe tbody tr th:only-of-type {\n",
       "        vertical-align: middle;\n",
       "    }\n",
       "\n",
       "    .dataframe tbody tr th {\n",
       "        vertical-align: top;\n",
       "    }\n",
       "\n",
       "    .dataframe thead th {\n",
       "        text-align: right;\n",
       "    }\n",
       "</style>\n",
       "<table border=\"1\" class=\"dataframe\">\n",
       "  <thead>\n",
       "    <tr style=\"text-align: right;\">\n",
       "      <th></th>\n",
       "      <th>score</th>\n",
       "      <th>recommend</th>\n",
       "    </tr>\n",
       "  </thead>\n",
       "  <tbody>\n",
       "    <tr>\n",
       "      <th>count</th>\n",
       "      <td>27.000000</td>\n",
       "      <td>27.000000</td>\n",
       "    </tr>\n",
       "    <tr>\n",
       "      <th>mean</th>\n",
       "      <td>4.814815</td>\n",
       "      <td>10.666667</td>\n",
       "    </tr>\n",
       "    <tr>\n",
       "      <th>std</th>\n",
       "      <td>0.395847</td>\n",
       "      <td>13.795205</td>\n",
       "    </tr>\n",
       "    <tr>\n",
       "      <th>min</th>\n",
       "      <td>4.000000</td>\n",
       "      <td>1.000000</td>\n",
       "    </tr>\n",
       "    <tr>\n",
       "      <th>25%</th>\n",
       "      <td>5.000000</td>\n",
       "      <td>3.000000</td>\n",
       "    </tr>\n",
       "    <tr>\n",
       "      <th>50%</th>\n",
       "      <td>5.000000</td>\n",
       "      <td>4.000000</td>\n",
       "    </tr>\n",
       "    <tr>\n",
       "      <th>75%</th>\n",
       "      <td>5.000000</td>\n",
       "      <td>9.000000</td>\n",
       "    </tr>\n",
       "    <tr>\n",
       "      <th>max</th>\n",
       "      <td>5.000000</td>\n",
       "      <td>44.000000</td>\n",
       "    </tr>\n",
       "  </tbody>\n",
       "</table>\n",
       "</div>"
      ],
      "text/plain": [
       "           score  recommend\n",
       "count  27.000000  27.000000\n",
       "mean    4.814815  10.666667\n",
       "std     0.395847  13.795205\n",
       "min     4.000000   1.000000\n",
       "25%     5.000000   3.000000\n",
       "50%     5.000000   4.000000\n",
       "75%     5.000000   9.000000\n",
       "max     5.000000  44.000000"
      ]
     },
     "execution_count": 109,
     "metadata": {},
     "output_type": "execute_result"
    }
   ],
   "source": [
    "c = final[final['recommend'] != 0]\n",
    "# 추천 1건 이상의 리뷰 개수 27건\n",
    "# 리뷰중 최대 추천 44, 추천 0을 제외한 평균 10.7\n",
    "c.describe()"
   ]
  },
  {
   "cell_type": "markdown",
   "id": "4af1c07f",
   "metadata": {},
   "source": [
    "# (TODO)감성분석 & 키워드 추출"
   ]
  },
  {
   "cell_type": "markdown",
   "id": "e33d9e14",
   "metadata": {},
   "source": [
    "KoBERT를 이용한 감성분석 시행\n",
    "1. 작성자가 부여한 score를 라벨링 하여 긍정:1, 부정:0 으로 분류\n",
    "2. 중복된 데이터를 기준으로 바이럴데이터:1, 리뷰데이터:0 으로 분류\n",
    "    - 3회이상 중복된 text를 바이럴 데이터로 가정\n",
    "\n",
    "Keybert 모델을 활용한 키워드 추출 시행\n",
    "1. 한국어 형태소 분석기인 Kiwi모듈 이용\n",
    "2. rpe train된 skt의 koBERT 모델 활용"
   ]
  },
  {
   "cell_type": "code",
   "execution_count": null,
   "id": "22ee0e46",
   "metadata": {},
   "outputs": [],
   "source": []
  }
 ],
 "metadata": {
  "kernelspec": {
   "display_name": "Python 3 (ipykernel)",
   "language": "python",
   "name": "python3"
  },
  "language_info": {
   "codemirror_mode": {
    "name": "ipython",
    "version": 3
   },
   "file_extension": ".py",
   "mimetype": "text/x-python",
   "name": "python",
   "nbconvert_exporter": "python",
   "pygments_lexer": "ipython3",
   "version": "3.11.7"
  },
  "toc": {
   "base_numbering": 1,
   "nav_menu": {},
   "number_sections": true,
   "sideBar": true,
   "skip_h1_title": false,
   "title_cell": "Table of Contents",
   "title_sidebar": "Contents",
   "toc_cell": false,
   "toc_position": {},
   "toc_section_display": true,
   "toc_window_display": false
  },
  "varInspector": {
   "cols": {
    "lenName": 16,
    "lenType": 16,
    "lenVar": 40
   },
   "kernels_config": {
    "python": {
     "delete_cmd_postfix": "",
     "delete_cmd_prefix": "del ",
     "library": "var_list.py",
     "varRefreshCmd": "print(var_dic_list())"
    },
    "r": {
     "delete_cmd_postfix": ") ",
     "delete_cmd_prefix": "rm(",
     "library": "var_list.r",
     "varRefreshCmd": "cat(var_dic_list()) "
    }
   },
   "types_to_exclude": [
    "module",
    "function",
    "builtin_function_or_method",
    "instance",
    "_Feature"
   ],
   "window_display": false
  }
 },
 "nbformat": 4,
 "nbformat_minor": 5
}
